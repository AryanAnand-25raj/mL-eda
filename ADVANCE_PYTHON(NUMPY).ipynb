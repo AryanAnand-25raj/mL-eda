{
 "cells": [
  {
   "cell_type": "code",
   "execution_count": 2,
   "id": "bdf997db-a0b9-4671-8451-59e6d711ba47",
   "metadata": {},
   "outputs": [],
   "source": [
    "import numpy as np"
   ]
  },
  {
   "cell_type": "code",
   "execution_count": 4,
   "id": "d79ee8ca-028f-4cab-8e57-b254aa18f6bb",
   "metadata": {},
   "outputs": [
    {
     "data": {
      "text/plain": [
       "list"
      ]
     },
     "execution_count": 4,
     "metadata": {},
     "output_type": "execute_result"
    }
   ],
   "source": [
    "my_list=[1,2,3]\n",
    "my_Array=np.array([1,2,3])\n",
    "type(my_list)"
   ]
  },
  {
   "cell_type": "code",
   "execution_count": 6,
   "id": "f921336e-7fed-413a-9a0a-e5b4d467ffcc",
   "metadata": {},
   "outputs": [
    {
     "data": {
      "text/plain": [
       "array([1, 2, 3])"
      ]
     },
     "execution_count": 6,
     "metadata": {},
     "output_type": "execute_result"
    }
   ],
   "source": [
    "my_list=[1,2,3]\n",
    "np.array(my_list)\n"
   ]
  },
  {
   "cell_type": "code",
   "execution_count": 8,
   "id": "6345cf0a-f59b-4d3f-810d-018613e5bb93",
   "metadata": {},
   "outputs": [
    {
     "data": {
      "text/plain": [
       "array([[1, 2, 3],\n",
       "       [4, 5, 6],\n",
       "       [7, 8, 9]])"
      ]
     },
     "execution_count": 8,
     "metadata": {},
     "output_type": "execute_result"
    }
   ],
   "source": [
    "my_matrix=[[1,2,3],[4,5,6],[7,8,9]]\n",
    "np.array(my_matrix)"
   ]
  },
  {
   "cell_type": "code",
   "execution_count": 10,
   "id": "72cfb346-8d4c-4033-bd33-2e1ff3d3ecfd",
   "metadata": {},
   "outputs": [
    {
     "data": {
      "text/plain": [
       "array([0, 1, 2, 3, 4, 5, 6, 7, 8, 9])"
      ]
     },
     "execution_count": 10,
     "metadata": {},
     "output_type": "execute_result"
    }
   ],
   "source": [
    "np.arange(0,10)"
   ]
  },
  {
   "cell_type": "code",
   "execution_count": 12,
   "id": "d0384397-43f7-4c59-8171-e9cec2639b10",
   "metadata": {},
   "outputs": [
    {
     "data": {
      "text/plain": [
       "array([ 0,  2,  4,  6,  8, 10])"
      ]
     },
     "execution_count": 12,
     "metadata": {},
     "output_type": "execute_result"
    }
   ],
   "source": [
    "np.arange(0,11,2)"
   ]
  },
  {
   "cell_type": "code",
   "execution_count": 14,
   "id": "1f8eb602-a582-4435-888b-fcb601dc2545",
   "metadata": {},
   "outputs": [
    {
     "data": {
      "text/plain": [
       "array([0., 0., 0.])"
      ]
     },
     "execution_count": 14,
     "metadata": {},
     "output_type": "execute_result"
    }
   ],
   "source": [
    "np.zeros(3)"
   ]
  },
  {
   "cell_type": "code",
   "execution_count": 16,
   "id": "3c8de7de-f4dd-4c58-bd70-ccc5f7e7a75f",
   "metadata": {},
   "outputs": [
    {
     "data": {
      "text/plain": [
       "array([[0., 0., 0., 0., 0.],\n",
       "       [0., 0., 0., 0., 0.],\n",
       "       [0., 0., 0., 0., 0.],\n",
       "       [0., 0., 0., 0., 0.],\n",
       "       [0., 0., 0., 0., 0.]])"
      ]
     },
     "execution_count": 16,
     "metadata": {},
     "output_type": "execute_result"
    }
   ],
   "source": [
    "np.zeros((5,5))"
   ]
  },
  {
   "cell_type": "code",
   "execution_count": 18,
   "id": "8e627686-b9db-4709-be26-a680b99f325d",
   "metadata": {},
   "outputs": [
    {
     "data": {
      "text/plain": [
       "array([1., 1., 1.])"
      ]
     },
     "execution_count": 18,
     "metadata": {},
     "output_type": "execute_result"
    }
   ],
   "source": [
    " np.ones(3)"
   ]
  },
  {
   "cell_type": "code",
   "execution_count": 20,
   "id": "d10791dd-cdaa-4053-81b7-be17a18e252b",
   "metadata": {},
   "outputs": [
    {
     "data": {
      "text/plain": [
       "array([[1., 1., 1.],\n",
       "       [1., 1., 1.],\n",
       "       [1., 1., 1.]])"
      ]
     },
     "execution_count": 20,
     "metadata": {},
     "output_type": "execute_result"
    }
   ],
   "source": [
    "np.ones((3,3))"
   ]
  },
  {
   "cell_type": "code",
   "execution_count": 22,
   "id": "3b7a0d41-2d42-4843-8d0b-66cf2c9fa854",
   "metadata": {},
   "outputs": [
    {
     "data": {
      "text/plain": [
       "array([ 0.,  5., 10.])"
      ]
     },
     "execution_count": 22,
     "metadata": {},
     "output_type": "execute_result"
    }
   ],
   "source": [
    "np.linspace(0,10,3)"
   ]
  },
  {
   "cell_type": "code",
   "execution_count": 24,
   "id": "7aae3199-3b45-49d8-b4cc-68fdc8e99c40",
   "metadata": {},
   "outputs": [
    {
     "data": {
      "text/plain": [
       "array([0.  , 0.25, 0.5 , 0.75, 1.  , 1.25, 1.5 , 1.75, 2.  , 2.25, 2.5 ,\n",
       "       2.75, 3.  , 3.25, 3.5 , 3.75, 4.  , 4.25, 4.5 , 4.75, 5.  ])"
      ]
     },
     "execution_count": 24,
     "metadata": {},
     "output_type": "execute_result"
    }
   ],
   "source": [
    "np.linspace(0,5,21)"
   ]
  },
  {
   "cell_type": "code",
   "execution_count": 26,
   "id": "e5fe588c-2bc8-4914-9ea4-c9beb188d431",
   "metadata": {},
   "outputs": [
    {
     "data": {
      "text/plain": [
       "array([[1., 0., 0., 0.],\n",
       "       [0., 1., 0., 0.],\n",
       "       [0., 0., 1., 0.],\n",
       "       [0., 0., 0., 1.]])"
      ]
     },
     "execution_count": 26,
     "metadata": {},
     "output_type": "execute_result"
    }
   ],
   "source": [
    "np.eye(4)"
   ]
  },
  {
   "cell_type": "code",
   "execution_count": 28,
   "id": "85e3c7aa-360e-4c0b-990c-6e38d3150e8a",
   "metadata": {},
   "outputs": [
    {
     "name": "stdout",
     "output_type": "stream",
     "text": [
      "Random\n"
     ]
    }
   ],
   "source": [
    "print(\"Random\")"
   ]
  },
  {
   "cell_type": "code",
   "execution_count": 30,
   "id": "dff93146-b7d5-465c-a8b9-34211fa70a71",
   "metadata": {},
   "outputs": [
    {
     "data": {
      "text/plain": [
       "array([0.63411306, 0.99050196])"
      ]
     },
     "execution_count": 30,
     "metadata": {},
     "output_type": "execute_result"
    }
   ],
   "source": [
    "np.random.rand(2)"
   ]
  },
  {
   "cell_type": "code",
   "execution_count": 32,
   "id": "0b04318b-16f5-44d7-85f5-caaf0d660ae1",
   "metadata": {},
   "outputs": [
    {
     "data": {
      "text/plain": [
       "array([0.12300536, 0.25432168])"
      ]
     },
     "execution_count": 32,
     "metadata": {},
     "output_type": "execute_result"
    }
   ],
   "source": [
    "np.random.rand(2)"
   ]
  },
  {
   "cell_type": "code",
   "execution_count": 34,
   "id": "60520a2e-e9e2-4864-8eb8-eba1e3640306",
   "metadata": {},
   "outputs": [
    {
     "data": {
      "text/plain": [
       "array([[0.54769644, 0.75458558, 0.60970989, 0.01826102, 0.70359395],\n",
       "       [0.37328719, 0.57601457, 0.16651401, 0.04166354, 0.90861887],\n",
       "       [0.36321235, 0.48072395, 0.66544212, 0.19284377, 0.73873444],\n",
       "       [0.44545698, 0.18050277, 0.61795442, 0.94025314, 0.0623397 ],\n",
       "       [0.57970725, 0.29406517, 0.1901525 , 0.63759193, 0.74212985]])"
      ]
     },
     "execution_count": 34,
     "metadata": {},
     "output_type": "execute_result"
    }
   ],
   "source": [
    "np.random.rand(5,5)"
   ]
  },
  {
   "cell_type": "code",
   "execution_count": 36,
   "id": "039204ac-8522-4976-bbd8-6641228fd5a2",
   "metadata": {},
   "outputs": [
    {
     "data": {
      "text/plain": [
       "array([ 0.54292116, -1.03426135])"
      ]
     },
     "execution_count": 36,
     "metadata": {},
     "output_type": "execute_result"
    }
   ],
   "source": [
    "np.random.randn(2)"
   ]
  },
  {
   "cell_type": "code",
   "execution_count": 38,
   "id": "c0d15e60-5987-4e77-bf64-fb96199696c6",
   "metadata": {},
   "outputs": [
    {
     "name": "stdout",
     "output_type": "stream",
     "text": [
      "RANDINT\n"
     ]
    }
   ],
   "source": [
    "print(\"RANDINT\")"
   ]
  },
  {
   "cell_type": "code",
   "execution_count": 40,
   "id": "beb48b3a-905f-4027-8bd6-ae9c4754520f",
   "metadata": {},
   "outputs": [
    {
     "data": {
      "text/plain": [
       "69"
      ]
     },
     "execution_count": 40,
     "metadata": {},
     "output_type": "execute_result"
    }
   ],
   "source": [
    "np.random.randint(1,100)"
   ]
  },
  {
   "cell_type": "code",
   "execution_count": 44,
   "id": "14eb75dd-a714-472c-8705-9da24a7e21f0",
   "metadata": {},
   "outputs": [
    {
     "data": {
      "text/plain": [
       "array([61,  4,  5, 89,  6, 17,  6, 63,  1, 83])"
      ]
     },
     "execution_count": 44,
     "metadata": {},
     "output_type": "execute_result"
    }
   ],
   "source": [
    "np.random.randint(1,100,10)"
   ]
  },
  {
   "cell_type": "code",
   "execution_count": 46,
   "id": "f1fff80c-d5ce-4139-b1b4-de0e41c2605c",
   "metadata": {},
   "outputs": [
    {
     "data": {
      "text/plain": [
       "array([0.37454012, 0.95071431, 0.73199394, 0.59865848])"
      ]
     },
     "execution_count": 46,
     "metadata": {},
     "output_type": "execute_result"
    }
   ],
   "source": [
    "np.random.seed(42)\n",
    "np.random.rand(4)"
   ]
  },
  {
   "cell_type": "code",
   "execution_count": 54,
   "id": "477bdc02-f4bc-467c-8bbf-711da3d10d27",
   "metadata": {},
   "outputs": [
    {
     "name": "stdout",
     "output_type": "stream",
     "text": [
      "25\n",
      "[29 37  1 20 32 11 21 43 24 48]\n"
     ]
    }
   ],
   "source": [
    "arr=np.array(25)\n",
    "ranarr=np.random.randint(0,50,10)\n",
    "print(arr)\n",
    "print(ranarr)"
   ]
  },
  {
   "cell_type": "code",
   "execution_count": 66,
   "id": "5d774d07-1b40-447c-83c8-479885505657",
   "metadata": {},
   "outputs": [
    {
     "name": "stdout",
     "output_type": "stream",
     "text": [
      "[29 37  1 20 32 11 21 43 24 48]\n"
     ]
    }
   ],
   "source": [
    "print(ranarr)"
   ]
  },
  {
   "cell_type": "code",
   "execution_count": 68,
   "id": "67af333a-9fe6-45fb-8537-dbefa2e51837",
   "metadata": {},
   "outputs": [
    {
     "data": {
      "text/plain": [
       "48"
      ]
     },
     "execution_count": 68,
     "metadata": {},
     "output_type": "execute_result"
    }
   ],
   "source": [
    "ranarr.max()"
   ]
  },
  {
   "cell_type": "code",
   "execution_count": 70,
   "id": "985f99fa-4a90-41b0-95b8-ee28300d7b3c",
   "metadata": {},
   "outputs": [
    {
     "data": {
      "text/plain": [
       "1"
      ]
     },
     "execution_count": 70,
     "metadata": {},
     "output_type": "execute_result"
    }
   ],
   "source": [
    "ranarr.min()"
   ]
  },
  {
   "cell_type": "code",
   "execution_count": 72,
   "id": "a7f90dfd-8007-48e0-ba83-80a59336f2b8",
   "metadata": {},
   "outputs": [
    {
     "data": {
      "text/plain": [
       "()"
      ]
     },
     "execution_count": 72,
     "metadata": {},
     "output_type": "execute_result"
    }
   ],
   "source": [
    "arr.shape"
   ]
  },
  {
   "cell_type": "code",
   "execution_count": 82,
   "id": "bad679a0-589b-45bd-8c17-34058e561ce1",
   "metadata": {},
   "outputs": [
    {
     "data": {
      "text/plain": [
       "dtype('int32')"
      ]
     },
     "execution_count": 82,
     "metadata": {},
     "output_type": "execute_result"
    }
   ],
   "source": [
    "arr.dtype"
   ]
  },
  {
   "cell_type": "code",
   "execution_count": 84,
   "id": "4100aaa8-0663-4a4e-a002-4f0ec1e2d2c3",
   "metadata": {},
   "outputs": [
    {
     "data": {
      "text/plain": [
       "dtype('float64')"
      ]
     },
     "execution_count": 84,
     "metadata": {},
     "output_type": "execute_result"
    }
   ],
   "source": [
    "arr2=np.array([1.2,3.4,5.6])\n",
    "arr2.dtype"
   ]
  },
  {
   "cell_type": "code",
   "execution_count": 100,
   "id": "a304425f-5b5b-45b9-bead-f9078e77fde3",
   "metadata": {},
   "outputs": [
    {
     "name": "stdout",
     "output_type": "stream",
     "text": [
      "[0 1 2 3 4 5 6 7 8 9]\n"
     ]
    }
   ],
   "source": [
    "import numpy as np\n",
    "arr=np.arange(0,10)\n",
    "print(arr)"
   ]
  },
  {
   "cell_type": "code",
   "execution_count": 102,
   "id": "c7c5a40b-e453-4863-9043-787b5b2a7fc3",
   "metadata": {},
   "outputs": [
    {
     "data": {
      "text/plain": [
       "8"
      ]
     },
     "execution_count": 102,
     "metadata": {},
     "output_type": "execute_result"
    }
   ],
   "source": [
    "arr[8]"
   ]
  },
  {
   "cell_type": "code",
   "execution_count": 110,
   "id": "84a9cebc-2a15-4fd2-9de7-969910dbc535",
   "metadata": {},
   "outputs": [
    {
     "data": {
      "text/plain": [
       "array([100, 100, 100, 100, 100,   5,   6,   7,   8,   9])"
      ]
     },
     "execution_count": 110,
     "metadata": {},
     "output_type": "execute_result"
    }
   ],
   "source": [
    "arr[0:5]=100\n",
    "#show\n",
    "arr"
   ]
  },
  {
   "cell_type": "code",
   "execution_count": 118,
   "id": "04d01a77-6d44-4616-bfee-28657ceb63ab",
   "metadata": {},
   "outputs": [
    {
     "data": {
      "text/plain": [
       "array([ 0,  1,  2,  3,  4,  5,  6,  7,  8,  9, 10])"
      ]
     },
     "execution_count": 118,
     "metadata": {},
     "output_type": "execute_result"
    }
   ],
   "source": [
    "arr=np.arange(0,11)\n",
    "#show\n",
    "arr"
   ]
  },
  {
   "cell_type": "code",
   "execution_count": 120,
   "id": "6875c533-ae82-442a-b51d-2aec81af4a37",
   "metadata": {},
   "outputs": [
    {
     "data": {
      "text/plain": [
       "array([0, 1, 2, 3, 4, 5])"
      ]
     },
     "execution_count": 120,
     "metadata": {},
     "output_type": "execute_result"
    }
   ],
   "source": [
    "slice_of_arr=arr[0:6]\n",
    "#show\n",
    "slice_of_arr"
   ]
  },
  {
   "cell_type": "code",
   "execution_count": 122,
   "id": "e58d917a-d8aa-4821-be5d-a38844040735",
   "metadata": {},
   "outputs": [
    {
     "data": {
      "text/plain": [
       "array([99, 99, 99, 99, 99, 99])"
      ]
     },
     "execution_count": 122,
     "metadata": {},
     "output_type": "execute_result"
    }
   ],
   "source": [
    "slice_of_arr[:]=99\n",
    "#show Sliceagain\n",
    "slice_of_arr"
   ]
  },
  {
   "cell_type": "code",
   "execution_count": 124,
   "id": "99990bc3-f5b7-4b60-a67b-494162829752",
   "metadata": {},
   "outputs": [
    {
     "data": {
      "text/plain": [
       "array([99, 99, 99, 99, 99, 99,  6,  7,  8,  9, 10])"
      ]
     },
     "execution_count": 124,
     "metadata": {},
     "output_type": "execute_result"
    }
   ],
   "source": [
    "arr_copy=arr.copy()\n",
    "arr_copy"
   ]
  },
  {
   "cell_type": "code",
   "execution_count": 130,
   "id": "e349dcad-393a-401e-8e80-22a01a9a09f2",
   "metadata": {},
   "outputs": [
    {
     "data": {
      "text/plain": [
       "array([[ 5, 10, 15],\n",
       "       [20, 25, 30],\n",
       "       [35, 40, 45]])"
      ]
     },
     "execution_count": 130,
     "metadata": {},
     "output_type": "execute_result"
    }
   ],
   "source": [
    "arr_2d=np.array(([5,10,15],[20,25,30],[35,40,45]))\n",
    "#show\n",
    "arr_2d"
   ]
  },
  {
   "cell_type": "code",
   "execution_count": 132,
   "id": "35076265-29c0-4696-b329-c6f64f963659",
   "metadata": {},
   "outputs": [
    {
     "data": {
      "text/plain": [
       "array([20, 25, 30])"
      ]
     },
     "execution_count": 132,
     "metadata": {},
     "output_type": "execute_result"
    }
   ],
   "source": [
    "arr_2d[1]"
   ]
  },
  {
   "cell_type": "code",
   "execution_count": 136,
   "id": "4a008e83-e5b4-4829-8405-583c27d0edbf",
   "metadata": {},
   "outputs": [
    {
     "data": {
      "text/plain": [
       "30"
      ]
     },
     "execution_count": 136,
     "metadata": {},
     "output_type": "execute_result"
    }
   ],
   "source": [
    "arr_2d[1][2]"
   ]
  },
  {
   "cell_type": "code",
   "execution_count": 140,
   "id": "c4b9b798-3860-41ea-90dc-73eeed65e965",
   "metadata": {},
   "outputs": [
    {
     "data": {
      "text/plain": [
       "25"
      ]
     },
     "execution_count": 140,
     "metadata": {},
     "output_type": "execute_result"
    }
   ],
   "source": [
    "arr_2d[1,1]"
   ]
  },
  {
   "cell_type": "code",
   "execution_count": 142,
   "id": "1f36032a-a398-4b0d-b2cc-4ff834f4abbf",
   "metadata": {},
   "outputs": [
    {
     "data": {
      "text/plain": [
       "array([35, 40, 45])"
      ]
     },
     "execution_count": 142,
     "metadata": {},
     "output_type": "execute_result"
    }
   ],
   "source": [
    "arr_2d[2]"
   ]
  },
  {
   "cell_type": "code",
   "execution_count": 148,
   "id": "22be93a7-1d93-436c-b86c-b1ab96fc2e9c",
   "metadata": {},
   "outputs": [
    {
     "data": {
      "text/plain": [
       "array([ 5, 10, 15])"
      ]
     },
     "execution_count": 148,
     "metadata": {},
     "output_type": "execute_result"
    }
   ],
   "source": [
    "arr_2d[0,:]"
   ]
  },
  {
   "cell_type": "code",
   "execution_count": 150,
   "id": "7c310ec1-be86-4d98-9284-6abda1792044",
   "metadata": {},
   "outputs": [
    {
     "data": {
      "text/plain": [
       "array([ 1,  2,  3,  4,  5,  6,  7,  8,  9, 10])"
      ]
     },
     "execution_count": 150,
     "metadata": {},
     "output_type": "execute_result"
    }
   ],
   "source": [
    "arr=np.arange(1,11)\n",
    "arr"
   ]
  },
  {
   "cell_type": "code",
   "execution_count": 152,
   "id": "c15ff401-395c-4bb7-ba92-fb0ffe71449a",
   "metadata": {},
   "outputs": [
    {
     "data": {
      "text/plain": [
       "array([False, False, False, False,  True,  True,  True,  True,  True,\n",
       "        True])"
      ]
     },
     "execution_count": 152,
     "metadata": {},
     "output_type": "execute_result"
    }
   ],
   "source": [
    "arr>4"
   ]
  },
  {
   "cell_type": "code",
   "execution_count": 156,
   "id": "a972344a-0a56-42f0-87c9-f044a5a1f16d",
   "metadata": {},
   "outputs": [
    {
     "data": {
      "text/plain": [
       "array([False, False, False, False,  True,  True,  True,  True,  True,\n",
       "        True])"
      ]
     },
     "execution_count": 156,
     "metadata": {},
     "output_type": "execute_result"
    }
   ],
   "source": [
    "bool_arr=arr>4\n",
    "\n",
    "bool_arr"
   ]
  },
  {
   "cell_type": "code",
   "execution_count": 160,
   "id": "372172b3-aef3-4d53-8068-0b72a49132f0",
   "metadata": {},
   "outputs": [
    {
     "data": {
      "text/plain": [
       "array([ 5,  6,  7,  8,  9, 10])"
      ]
     },
     "execution_count": 160,
     "metadata": {},
     "output_type": "execute_result"
    }
   ],
   "source": [
    "arr[bool_arr]"
   ]
  },
  {
   "cell_type": "code",
   "execution_count": 162,
   "id": "ca61dde4-e5d3-474a-ab77-f891e38f265c",
   "metadata": {},
   "outputs": [
    {
     "data": {
      "text/plain": [
       "array([ 3,  4,  5,  6,  7,  8,  9, 10])"
      ]
     },
     "execution_count": 162,
     "metadata": {},
     "output_type": "execute_result"
    }
   ],
   "source": [
    "arr[arr>2]"
   ]
  },
  {
   "cell_type": "code",
   "execution_count": 164,
   "id": "491c6114-ad63-49dd-a529-f24752b82ed4",
   "metadata": {},
   "outputs": [
    {
     "data": {
      "text/plain": [
       "array([ 3,  4,  5,  6,  7,  8,  9, 10])"
      ]
     },
     "execution_count": 164,
     "metadata": {},
     "output_type": "execute_result"
    }
   ],
   "source": [
    "x=2\n",
    "arr[arr>x]"
   ]
  },
  {
   "cell_type": "code",
   "execution_count": 166,
   "id": "a2e9d35d-5f2c-4818-99c0-1ffef052a8a2",
   "metadata": {},
   "outputs": [
    {
     "name": "stdout",
     "output_type": "stream",
     "text": [
      "NUMPY OPERATIONS\n"
     ]
    }
   ],
   "source": [
    "print(\"NUMPY OPERATIONS\")"
   ]
  },
  {
   "cell_type": "code",
   "execution_count": 21,
   "id": "e24b8ae6-eac7-410c-bc8f-435ff6d03666",
   "metadata": {},
   "outputs": [
    {
     "name": "stdout",
     "output_type": "stream",
     "text": [
      "<class 'numpy.ndarray'>\n"
     ]
    }
   ],
   "source": [
    "import numpy as np\n",
    "\n",
    "x=np.array([0,10])\n",
    "\n",
    "print(type(x))\n",
    "\n"
   ]
  },
  {
   "cell_type": "code",
   "execution_count": 184,
   "id": "bcdc509d-84f6-4c29-92b7-6e0232959a6a",
   "metadata": {},
   "outputs": [
    {
     "name": "stdout",
     "output_type": "stream",
     "text": [
      "Taking Universal Array\n"
     ]
    }
   ],
   "source": [
    "print(\"Taking Universal Array\")"
   ]
  },
  {
   "cell_type": "code",
   "execution_count": 186,
   "id": "e368b847-7a9b-4a15-b1ea-3660726fc1c7",
   "metadata": {},
   "outputs": [
    {
     "data": {
      "text/plain": [
       "array([0.        , 3.16227766])"
      ]
     },
     "execution_count": 186,
     "metadata": {},
     "output_type": "execute_result"
    }
   ],
   "source": [
    "#Taking SquareRoots\n",
    "np.sqrt(arr)"
   ]
  },
  {
   "cell_type": "code",
   "execution_count": 188,
   "id": "c75b2cb3-1a4a-42a4-963e-22ec228ebaab",
   "metadata": {},
   "outputs": [
    {
     "name": "stdout",
     "output_type": "stream",
     "text": [
      "CALCULATING EXPONENTIAL (e*)\n"
     ]
    }
   ],
   "source": [
    "print(\"CALCULATING EXPONENTIAL (e*)\")"
   ]
  },
  {
   "cell_type": "code",
   "execution_count": 190,
   "id": "ec292f84-b1e4-404b-992b-76363f8ba2b4",
   "metadata": {},
   "outputs": [
    {
     "data": {
      "text/plain": [
       "array([1.00000000e+00, 2.20264658e+04])"
      ]
     },
     "execution_count": 190,
     "metadata": {},
     "output_type": "execute_result"
    }
   ],
   "source": [
    "np.exp(arr)"
   ]
  },
  {
   "cell_type": "code",
   "execution_count": 192,
   "id": "81bc61a1-bddb-42c1-b5b5-efa89a13cbec",
   "metadata": {},
   "outputs": [
    {
     "data": {
      "text/plain": [
       "array([ 0.        , -0.54402111])"
      ]
     },
     "execution_count": 192,
     "metadata": {},
     "output_type": "execute_result"
    }
   ],
   "source": [
    "np.sin(arr)"
   ]
  },
  {
   "cell_type": "code",
   "execution_count": 194,
   "id": "df79eb3d-bd1c-48a6-b608-a971f47c3db7",
   "metadata": {},
   "outputs": [
    {
     "name": "stderr",
     "output_type": "stream",
     "text": [
      "C:\\Users\\ASUS\\AppData\\Local\\Temp\\ipykernel_12812\\3120950136.py:1: RuntimeWarning: divide by zero encountered in log\n",
      "  np.log(arr)\n"
     ]
    },
    {
     "data": {
      "text/plain": [
       "array([      -inf, 2.30258509])"
      ]
     },
     "execution_count": 194,
     "metadata": {},
     "output_type": "execute_result"
    }
   ],
   "source": [
    "np.log(arr)"
   ]
  },
  {
   "cell_type": "code",
   "execution_count": 198,
   "id": "68c32733-d122-4d0b-bf50-740b0415b197",
   "metadata": {},
   "outputs": [
    {
     "data": {
      "text/plain": [
       "array([0, 1, 2, 3, 4, 5, 6, 7, 8, 9])"
      ]
     },
     "execution_count": 198,
     "metadata": {},
     "output_type": "execute_result"
    }
   ],
   "source": [
    "arr=np.arange(0,10)\n",
    "arr"
   ]
  },
  {
   "cell_type": "code",
   "execution_count": 200,
   "id": "b547c700-d6d1-4fce-b2a8-d65bf2860689",
   "metadata": {},
   "outputs": [
    {
     "data": {
      "text/plain": [
       "array([ 0,  2,  4,  6,  8, 10, 12, 14, 16, 18])"
      ]
     },
     "execution_count": 200,
     "metadata": {},
     "output_type": "execute_result"
    }
   ],
   "source": [
    "arr=np.arange(0,10)\n",
    "arr+arr"
   ]
  },
  {
   "cell_type": "code",
   "execution_count": 202,
   "id": "735e1871-7f68-497c-9a53-f5ac9ca4fe68",
   "metadata": {},
   "outputs": [
    {
     "data": {
      "text/plain": [
       "array([ 0,  1,  4,  9, 16, 25, 36, 49, 64, 81])"
      ]
     },
     "execution_count": 202,
     "metadata": {},
     "output_type": "execute_result"
    }
   ],
   "source": [
    "arr*arr"
   ]
  },
  {
   "cell_type": "code",
   "execution_count": 204,
   "id": "1116b825-b8b7-4de8-bf14-0be04ac77fc9",
   "metadata": {},
   "outputs": [
    {
     "name": "stderr",
     "output_type": "stream",
     "text": [
      "C:\\Users\\ASUS\\AppData\\Local\\Temp\\ipykernel_12812\\1862401812.py:1: RuntimeWarning: invalid value encountered in divide\n",
      "  arr/arr\n"
     ]
    },
    {
     "data": {
      "text/plain": [
       "array([nan,  1.,  1.,  1.,  1.,  1.,  1.,  1.,  1.,  1.])"
      ]
     },
     "execution_count": 204,
     "metadata": {},
     "output_type": "execute_result"
    }
   ],
   "source": [
    "arr/arr"
   ]
  },
  {
   "cell_type": "code",
   "execution_count": 206,
   "id": "501aa20f-6fe9-4063-ad40-3f301164b89a",
   "metadata": {},
   "outputs": [
    {
     "data": {
      "text/plain": [
       "array([ 0.        ,  0.84147098,  0.90929743,  0.14112001, -0.7568025 ,\n",
       "       -0.95892427, -0.2794155 ,  0.6569866 ,  0.98935825,  0.41211849])"
      ]
     },
     "execution_count": 206,
     "metadata": {},
     "output_type": "execute_result"
    }
   ],
   "source": [
    "np.sin(arr)"
   ]
  },
  {
   "cell_type": "code",
   "execution_count": 208,
   "id": "e2c898db-c8c8-4473-b1e9-bce25f6b0184",
   "metadata": {},
   "outputs": [
    {
     "name": "stderr",
     "output_type": "stream",
     "text": [
      "C:\\Users\\ASUS\\AppData\\Local\\Temp\\ipykernel_12812\\3120950136.py:1: RuntimeWarning: divide by zero encountered in log\n",
      "  np.log(arr)\n"
     ]
    },
    {
     "data": {
      "text/plain": [
       "array([      -inf, 0.        , 0.69314718, 1.09861229, 1.38629436,\n",
       "       1.60943791, 1.79175947, 1.94591015, 2.07944154, 2.19722458])"
      ]
     },
     "execution_count": 208,
     "metadata": {},
     "output_type": "execute_result"
    }
   ],
   "source": [
    "np.log(arr)"
   ]
  },
  {
   "cell_type": "code",
   "execution_count": 210,
   "id": "66ac0f33-5f60-4c59-9f01-d0a9c96b62ab",
   "metadata": {},
   "outputs": [
    {
     "data": {
      "text/plain": [
       "array([0, 1, 2, 3, 4, 5, 6, 7, 8, 9])"
      ]
     },
     "execution_count": 210,
     "metadata": {},
     "output_type": "execute_result"
    }
   ],
   "source": [
    "arr=np.arange(0,10)\n",
    "arr"
   ]
  },
  {
   "cell_type": "code",
   "execution_count": 214,
   "id": "44181544-8f09-4610-9334-4735202210e9",
   "metadata": {},
   "outputs": [
    {
     "data": {
      "text/plain": [
       "45"
      ]
     },
     "execution_count": 214,
     "metadata": {},
     "output_type": "execute_result"
    }
   ],
   "source": [
    "arr.sum()"
   ]
  },
  {
   "cell_type": "code",
   "execution_count": 218,
   "id": "59e3651f-6df5-44c0-8e4f-3e3994e02394",
   "metadata": {},
   "outputs": [
    {
     "data": {
      "text/plain": [
       "4.5"
      ]
     },
     "execution_count": 218,
     "metadata": {},
     "output_type": "execute_result"
    }
   ],
   "source": [
    "arr.mean()"
   ]
  },
  {
   "cell_type": "code",
   "execution_count": 220,
   "id": "d92c5186-6341-4ea7-abcf-1fe77d626b7c",
   "metadata": {},
   "outputs": [
    {
     "data": {
      "text/plain": [
       "9"
      ]
     },
     "execution_count": 220,
     "metadata": {},
     "output_type": "execute_result"
    }
   ],
   "source": [
    "arr.max()"
   ]
  },
  {
   "cell_type": "code",
   "execution_count": 222,
   "id": "a88ed6d1-26de-4ba0-ab0b-1c19f0355bad",
   "metadata": {},
   "outputs": [
    {
     "name": "stdout",
     "output_type": "stream",
     "text": [
      "Series\n"
     ]
    }
   ],
   "source": [
    "print(\"Series\")"
   ]
  },
  {
   "cell_type": "code",
   "execution_count": 22,
   "id": "8f000dc3-8bb7-4824-9188-a802173aa6aa",
   "metadata": {},
   "outputs": [],
   "source": [
    "import numpy as np"
   ]
  },
  {
   "cell_type": "code",
   "execution_count": 24,
   "id": "1ce8eb4e-1af2-4394-9958-b7b713660407",
   "metadata": {},
   "outputs": [
    {
     "data": {
      "text/plain": [
       "list"
      ]
     },
     "execution_count": 24,
     "metadata": {},
     "output_type": "execute_result"
    }
   ],
   "source": [
    "X=[10,20,30,40]\n",
    "my_array=np.array(X)\n",
    "type(X)"
   ]
  },
  {
   "cell_type": "code",
   "execution_count": 26,
   "id": "1397cbbc-5f67-42cf-90f2-ee27129da3b1",
   "metadata": {},
   "outputs": [
    {
     "data": {
      "text/plain": [
       "numpy.ndarray"
      ]
     },
     "execution_count": 26,
     "metadata": {},
     "output_type": "execute_result"
    }
   ],
   "source": [
    "type(my_array)"
   ]
  },
  {
   "cell_type": "code",
   "execution_count": 28,
   "id": "5d2195a3-5368-4fb4-908e-49cefb3d5817",
   "metadata": {},
   "outputs": [
    {
     "data": {
      "text/plain": [
       "10"
      ]
     },
     "execution_count": 28,
     "metadata": {},
     "output_type": "execute_result"
    }
   ],
   "source": [
    "X[0]"
   ]
  },
  {
   "cell_type": "code",
   "execution_count": 30,
   "id": "8b26fe5c-bc2b-449a-b5fa-1b5c75d81607",
   "metadata": {},
   "outputs": [
    {
     "data": {
      "text/plain": [
       "10"
      ]
     },
     "execution_count": 30,
     "metadata": {},
     "output_type": "execute_result"
    }
   ],
   "source": [
    "my_array[0]"
   ]
  },
  {
   "cell_type": "code",
   "execution_count": 32,
   "id": "499e8bc9-3afc-45fc-b1bd-93b341203272",
   "metadata": {},
   "outputs": [],
   "source": [
    "M1=np.array([[1,2,3],[4,5,6],[7,8,9]])\n"
   ]
  },
  {
   "cell_type": "code",
   "execution_count": 34,
   "id": "c4a6c779-0e92-429a-874e-9e10bf6279d7",
   "metadata": {},
   "outputs": [
    {
     "data": {
      "text/plain": [
       "array([[1, 2, 3],\n",
       "       [4, 5, 6],\n",
       "       [7, 8, 9]])"
      ]
     },
     "execution_count": 34,
     "metadata": {},
     "output_type": "execute_result"
    }
   ],
   "source": [
    "M1"
   ]
  },
  {
   "cell_type": "code",
   "execution_count": 36,
   "id": "dc56f3d5-dad7-4b21-ba4c-d70393a295c5",
   "metadata": {},
   "outputs": [],
   "source": [
    "M2=np.array([[1,2,3],[4,5,6],[7,8,9]])"
   ]
  },
  {
   "cell_type": "code",
   "execution_count": 38,
   "id": "cd2bb3f9-807b-42be-8b71-a94f4b3c5178",
   "metadata": {},
   "outputs": [
    {
     "data": {
      "text/plain": [
       "array([[1, 2, 3],\n",
       "       [4, 5, 6],\n",
       "       [7, 8, 9]])"
      ]
     },
     "execution_count": 38,
     "metadata": {},
     "output_type": "execute_result"
    }
   ],
   "source": [
    "M2"
   ]
  },
  {
   "cell_type": "code",
   "execution_count": 40,
   "id": "a1eff932-9ae5-401a-8719-5a79243cff6e",
   "metadata": {},
   "outputs": [
    {
     "data": {
      "text/plain": [
       "array([[ 30,  36,  42],\n",
       "       [ 66,  81,  96],\n",
       "       [102, 126, 150]])"
      ]
     },
     "execution_count": 40,
     "metadata": {},
     "output_type": "execute_result"
    }
   ],
   "source": [
    "M1@M2"
   ]
  },
  {
   "cell_type": "code",
   "execution_count": 42,
   "id": "25828aeb-d810-4549-a0bc-282b343ac0ef",
   "metadata": {},
   "outputs": [],
   "source": [
    "mydata=np.arange(0,10,3)"
   ]
  },
  {
   "cell_type": "code",
   "execution_count": 44,
   "id": "75c1f8d2-a9b6-4439-9f5f-8fa9cec1ea86",
   "metadata": {},
   "outputs": [
    {
     "name": "stdout",
     "output_type": "stream",
     "text": [
      "[0 3 6 9]\n"
     ]
    }
   ],
   "source": [
    "print(mydata)"
   ]
  },
  {
   "cell_type": "code",
   "execution_count": 46,
   "id": "41470c15-9f94-4392-92af-b4d6d2741bf3",
   "metadata": {},
   "outputs": [
    {
     "data": {
      "text/plain": [
       "array([[1., 1., 1., 1., 1.],\n",
       "       [1., 1., 1., 1., 1.],\n",
       "       [1., 1., 1., 1., 1.],\n",
       "       [1., 1., 1., 1., 1.],\n",
       "       [1., 1., 1., 1., 1.]])"
      ]
     },
     "execution_count": 46,
     "metadata": {},
     "output_type": "execute_result"
    }
   ],
   "source": [
    "np.ones([5,5])"
   ]
  },
  {
   "cell_type": "code",
   "execution_count": 48,
   "id": "65b4805b-4b00-4d94-91a5-fb838cd0a02d",
   "metadata": {},
   "outputs": [
    {
     "data": {
      "text/plain": [
       "array([[0., 0., 0., 0.],\n",
       "       [0., 0., 0., 0.],\n",
       "       [0., 0., 0., 0.],\n",
       "       [0., 0., 0., 0.]])"
      ]
     },
     "execution_count": 48,
     "metadata": {},
     "output_type": "execute_result"
    }
   ],
   "source": [
    "np.zeros([4,4])"
   ]
  },
  {
   "cell_type": "code",
   "execution_count": 50,
   "id": "adf236a7-b42f-4fa6-ab81-b47909186143",
   "metadata": {},
   "outputs": [
    {
     "data": {
      "text/plain": [
       "array([0.        , 0.03030303, 0.06060606, 0.09090909, 0.12121212,\n",
       "       0.15151515, 0.18181818, 0.21212121, 0.24242424, 0.27272727,\n",
       "       0.3030303 , 0.33333333, 0.36363636, 0.39393939, 0.42424242,\n",
       "       0.45454545, 0.48484848, 0.51515152, 0.54545455, 0.57575758,\n",
       "       0.60606061, 0.63636364, 0.66666667, 0.6969697 , 0.72727273,\n",
       "       0.75757576, 0.78787879, 0.81818182, 0.84848485, 0.87878788,\n",
       "       0.90909091, 0.93939394, 0.96969697, 1.        , 1.03030303,\n",
       "       1.06060606, 1.09090909, 1.12121212, 1.15151515, 1.18181818,\n",
       "       1.21212121, 1.24242424, 1.27272727, 1.3030303 , 1.33333333,\n",
       "       1.36363636, 1.39393939, 1.42424242, 1.45454545, 1.48484848,\n",
       "       1.51515152, 1.54545455, 1.57575758, 1.60606061, 1.63636364,\n",
       "       1.66666667, 1.6969697 , 1.72727273, 1.75757576, 1.78787879,\n",
       "       1.81818182, 1.84848485, 1.87878788, 1.90909091, 1.93939394,\n",
       "       1.96969697, 2.        , 2.03030303, 2.06060606, 2.09090909,\n",
       "       2.12121212, 2.15151515, 2.18181818, 2.21212121, 2.24242424,\n",
       "       2.27272727, 2.3030303 , 2.33333333, 2.36363636, 2.39393939,\n",
       "       2.42424242, 2.45454545, 2.48484848, 2.51515152, 2.54545455,\n",
       "       2.57575758, 2.60606061, 2.63636364, 2.66666667, 2.6969697 ,\n",
       "       2.72727273, 2.75757576, 2.78787879, 2.81818182, 2.84848485,\n",
       "       2.87878788, 2.90909091, 2.93939394, 2.96969697, 3.        ])"
      ]
     },
     "execution_count": 50,
     "metadata": {},
     "output_type": "execute_result"
    }
   ],
   "source": [
    "np.linspace(0,3,100)"
   ]
  },
  {
   "cell_type": "code",
   "execution_count": 52,
   "id": "d5e23842-9da4-425b-a12d-b4fb54881418",
   "metadata": {},
   "outputs": [
    {
     "data": {
      "text/plain": [
       "array([[1., 0., 0., 0.],\n",
       "       [0., 1., 0., 0.],\n",
       "       [0., 0., 1., 0.],\n",
       "       [0., 0., 0., 1.]])"
      ]
     },
     "execution_count": 52,
     "metadata": {},
     "output_type": "execute_result"
    }
   ],
   "source": [
    "np.eye(4)"
   ]
  },
  {
   "cell_type": "code",
   "execution_count": 54,
   "id": "78265565-f64a-48c8-b361-9b9ad1b1c22c",
   "metadata": {},
   "outputs": [],
   "source": [
    "import numpy as np"
   ]
  },
  {
   "cell_type": "code",
   "execution_count": 56,
   "id": "8746b5b9-6b21-438f-adb3-ed9eb8a6da5f",
   "metadata": {},
   "outputs": [
    {
     "data": {
      "text/plain": [
       "array([0.77275052, 0.18407766])"
      ]
     },
     "execution_count": 56,
     "metadata": {},
     "output_type": "execute_result"
    }
   ],
   "source": [
    "np.random.rand(2)"
   ]
  },
  {
   "cell_type": "code",
   "execution_count": 60,
   "id": "14fea409-b0b7-48a3-bda0-4854b6938c86",
   "metadata": {},
   "outputs": [
    {
     "data": {
      "text/plain": [
       "array([[0.81199758, 0.56611064, 0.05794249, 0.54217615, 0.50635624],\n",
       "       [0.46553938, 0.3735051 , 0.61810972, 0.43219532, 0.0376686 ],\n",
       "       [0.00706584, 0.13329972, 0.8217647 , 0.70938531, 0.88076952],\n",
       "       [0.14681739, 0.39490117, 0.46563048, 0.16604717, 0.03517763],\n",
       "       [0.48005071, 0.92285099, 0.41076698, 0.83757586, 0.58506855]])"
      ]
     },
     "execution_count": 60,
     "metadata": {},
     "output_type": "execute_result"
    }
   ],
   "source": [
    "np.random.rand(5,5)"
   ]
  },
  {
   "cell_type": "code",
   "execution_count": 62,
   "id": "d595aca3-c1bd-4f38-b1bd-0da83a99269d",
   "metadata": {},
   "outputs": [
    {
     "data": {
      "text/plain": [
       "array([0.03342375, 2.15365291])"
      ]
     },
     "execution_count": 62,
     "metadata": {},
     "output_type": "execute_result"
    }
   ],
   "source": [
    "np.random.randn(2)"
   ]
  },
  {
   "cell_type": "code",
   "execution_count": 64,
   "id": "424026cd-6323-4122-8371-a0f6e463f352",
   "metadata": {},
   "outputs": [
    {
     "data": {
      "text/plain": [
       "array([13, 10, 18, 16, 15, 18])"
      ]
     },
     "execution_count": 64,
     "metadata": {},
     "output_type": "execute_result"
    }
   ],
   "source": [
    "np.random.randint(10,20,6)"
   ]
  },
  {
   "cell_type": "code",
   "execution_count": 66,
   "id": "bc964474-582f-4dee-a9a8-6df4d62a6374",
   "metadata": {},
   "outputs": [
    {
     "data": {
      "text/plain": [
       "array([15, 15, 14, 17, 12, 15, 11])"
      ]
     },
     "execution_count": 66,
     "metadata": {},
     "output_type": "execute_result"
    }
   ],
   "source": [
    "np.random.seed(30)\n",
    "np.random.randint(10,20,7)"
   ]
  },
  {
   "cell_type": "code",
   "execution_count": 68,
   "id": "e4afcec3-9e87-4386-b666-093d61feaa95",
   "metadata": {},
   "outputs": [],
   "source": [
    "mydata=np.random.randint(10,100,25)"
   ]
  },
  {
   "cell_type": "code",
   "execution_count": 70,
   "id": "f9019e33-5e4d-4748-ac0f-6652b64b49a7",
   "metadata": {},
   "outputs": [
    {
     "data": {
      "text/plain": [
       "25"
      ]
     },
     "execution_count": 70,
     "metadata": {},
     "output_type": "execute_result"
    }
   ],
   "source": [
    "len(mydata)"
   ]
  },
  {
   "cell_type": "code",
   "execution_count": 72,
   "id": "b2fe1ff2-0a7f-495b-a63d-38a5d54521a4",
   "metadata": {},
   "outputs": [
    {
     "data": {
      "text/plain": [
       "(25,)"
      ]
     },
     "execution_count": 72,
     "metadata": {},
     "output_type": "execute_result"
    }
   ],
   "source": [
    "mydata.shape"
   ]
  },
  {
   "cell_type": "code",
   "execution_count": 76,
   "id": "6e238b66-2b44-4105-a069-05fe97d0f5ff",
   "metadata": {},
   "outputs": [],
   "source": [
    "mynewdata=mydata.reshape(5,5)"
   ]
  },
  {
   "cell_type": "code",
   "execution_count": 78,
   "id": "d3f2ca4c-f9f9-4460-af39-61e4e9631c80",
   "metadata": {},
   "outputs": [
    {
     "data": {
      "text/plain": [
       "(5, 5)"
      ]
     },
     "execution_count": 78,
     "metadata": {},
     "output_type": "execute_result"
    }
   ],
   "source": [
    "mynewdata.shape"
   ]
  },
  {
   "cell_type": "code",
   "execution_count": 80,
   "id": "c0446283-a4bc-4fd3-9d26-e3b03bb39bc5",
   "metadata": {},
   "outputs": [],
   "source": [
    "updatedata=np.random.randint(10,20,6)"
   ]
  },
  {
   "cell_type": "code",
   "execution_count": 82,
   "id": "2fd69ab0-8a11-456f-a735-d6d069f722cd",
   "metadata": {},
   "outputs": [
    {
     "data": {
      "text/plain": [
       "(6,)"
      ]
     },
     "execution_count": 82,
     "metadata": {},
     "output_type": "execute_result"
    }
   ],
   "source": [
    "updatedata.shape"
   ]
  },
  {
   "cell_type": "code",
   "execution_count": 84,
   "id": "1c46647e-e10f-4a4a-9341-f0e474487aa5",
   "metadata": {},
   "outputs": [
    {
     "data": {
      "text/plain": [
       "array([11, 17, 11, 19, 18, 15])"
      ]
     },
     "execution_count": 84,
     "metadata": {},
     "output_type": "execute_result"
    }
   ],
   "source": [
    "updatedata"
   ]
  },
  {
   "cell_type": "code",
   "execution_count": 86,
   "id": "50600842-4767-49d5-822f-5ee4e8a2a408",
   "metadata": {},
   "outputs": [
    {
     "data": {
      "text/plain": [
       "19"
      ]
     },
     "execution_count": 86,
     "metadata": {},
     "output_type": "execute_result"
    }
   ],
   "source": [
    "updatedata.max()"
   ]
  },
  {
   "cell_type": "code",
   "execution_count": 88,
   "id": "71425e99-9e8e-4ef9-80bc-3fab9fe849c7",
   "metadata": {},
   "outputs": [
    {
     "data": {
      "text/plain": [
       "11"
      ]
     },
     "execution_count": 88,
     "metadata": {},
     "output_type": "execute_result"
    }
   ],
   "source": [
    "updatedata.min()"
   ]
  },
  {
   "cell_type": "code",
   "execution_count": 92,
   "id": "3fe687cc-056c-49c7-adce-6afd7379707a",
   "metadata": {},
   "outputs": [
    {
     "data": {
      "text/plain": [
       "3"
      ]
     },
     "execution_count": 92,
     "metadata": {},
     "output_type": "execute_result"
    }
   ],
   "source": [
    "updatedata.argmax()"
   ]
  },
  {
   "cell_type": "code",
   "execution_count": 94,
   "id": "96b3cc26-16cb-4746-8cf5-eaa4a0b8765a",
   "metadata": {},
   "outputs": [
    {
     "data": {
      "text/plain": [
       "dtype('int32')"
      ]
     },
     "execution_count": 94,
     "metadata": {},
     "output_type": "execute_result"
    }
   ],
   "source": [
    "updatedata.dtype"
   ]
  },
  {
   "cell_type": "code",
   "execution_count": 102,
   "id": "f4147df3-0447-4e56-b89c-5eadee02d5fd",
   "metadata": {},
   "outputs": [],
   "source": [
    "L1=[10,20,30,40,\"Jammu\"]\n",
    "D1=np.array(L1)"
   ]
  },
  {
   "cell_type": "code",
   "execution_count": 104,
   "id": "f2682277-71e3-474d-92fa-b033466efb2f",
   "metadata": {},
   "outputs": [
    {
     "data": {
      "text/plain": [
       "dtype('<U11')"
      ]
     },
     "execution_count": 104,
     "metadata": {},
     "output_type": "execute_result"
    }
   ],
   "source": [
    "D1.dtype"
   ]
  },
  {
   "cell_type": "code",
   "execution_count": 106,
   "id": "78d12dd6-e7ca-4779-adf2-958e3b5bb797",
   "metadata": {},
   "outputs": [
    {
     "data": {
      "text/plain": [
       "'10'"
      ]
     },
     "execution_count": 106,
     "metadata": {},
     "output_type": "execute_result"
    }
   ],
   "source": [
    "D1[0]"
   ]
  },
  {
   "cell_type": "code",
   "execution_count": 108,
   "id": "91a31452-3be6-4fcd-a377-d9e5a1758616",
   "metadata": {},
   "outputs": [
    {
     "data": {
      "text/plain": [
       "'Jammu'"
      ]
     },
     "execution_count": 108,
     "metadata": {},
     "output_type": "execute_result"
    }
   ],
   "source": [
    "D1[4]"
   ]
  },
  {
   "cell_type": "code",
   "execution_count": 110,
   "id": "80f67140-111a-4cc0-b2af-5461e52171b3",
   "metadata": {},
   "outputs": [],
   "source": [
    "mydata=np.random.randint(10,200,13)"
   ]
  },
  {
   "cell_type": "code",
   "execution_count": 112,
   "id": "e6ffa03e-c955-466a-901c-db74bf9e30f2",
   "metadata": {},
   "outputs": [
    {
     "data": {
      "text/plain": [
       "array([195,  49, 147, 171, 130, 185, 177, 174,  32, 178, 163, 192, 129])"
      ]
     },
     "execution_count": 112,
     "metadata": {},
     "output_type": "execute_result"
    }
   ],
   "source": [
    "mydata"
   ]
  },
  {
   "cell_type": "code",
   "execution_count": 114,
   "id": "cdbc3473-9d67-454c-9d0c-d78c13c81a9f",
   "metadata": {},
   "outputs": [
    {
     "data": {
      "text/plain": [
       "array([ True, False,  True,  True,  True,  True,  True,  True, False,\n",
       "        True,  True,  True,  True])"
      ]
     },
     "execution_count": 114,
     "metadata": {},
     "output_type": "execute_result"
    }
   ],
   "source": [
    "mydata>50"
   ]
  },
  {
   "cell_type": "code",
   "execution_count": 116,
   "id": "126efa6e-845c-4997-804d-810b9fa5693e",
   "metadata": {},
   "outputs": [
    {
     "data": {
      "text/plain": [
       "array([195, 147, 171, 130, 185, 177, 174, 178, 163, 192, 129])"
      ]
     },
     "execution_count": 116,
     "metadata": {},
     "output_type": "execute_result"
    }
   ],
   "source": [
    "mydata[mydata>100]"
   ]
  },
  {
   "cell_type": "code",
   "execution_count": 118,
   "id": "80c16fe3-29f1-4f54-b53a-77be843040ec",
   "metadata": {},
   "outputs": [
    {
     "data": {
      "text/plain": [
       "array([49, 32])"
      ]
     },
     "execution_count": 118,
     "metadata": {},
     "output_type": "execute_result"
    }
   ],
   "source": [
    "mydata[mydata<100]"
   ]
  },
  {
   "cell_type": "code",
   "execution_count": 120,
   "id": "94ab209b-95ce-4fde-8cc8-09d724a51196",
   "metadata": {},
   "outputs": [
    {
     "data": {
      "text/plain": [
       "array([195,  49, 147, 171, 130, 185, 177, 174,  32, 178, 163, 192, 129])"
      ]
     },
     "execution_count": 120,
     "metadata": {},
     "output_type": "execute_result"
    }
   ],
   "source": [
    "mydata[mydata!=113]"
   ]
  },
  {
   "cell_type": "code",
   "execution_count": 122,
   "id": "d6f743e0-3937-46de-9d5d-ae11990ebd9f",
   "metadata": {},
   "outputs": [],
   "source": [
    "import numpy as np"
   ]
  },
  {
   "cell_type": "code",
   "execution_count": 124,
   "id": "cb736632-8f33-4a0c-84c0-25d325b818fe",
   "metadata": {},
   "outputs": [],
   "source": [
    "mydata=np.random.randint(10,200,8)"
   ]
  },
  {
   "cell_type": "code",
   "execution_count": 126,
   "id": "07ddcc38-e10d-4c1c-8609-2e3756e2f95f",
   "metadata": {},
   "outputs": [
    {
     "data": {
      "text/plain": [
       "array([ 79, 115, 164, 101,  29, 168,  59,  62])"
      ]
     },
     "execution_count": 126,
     "metadata": {},
     "output_type": "execute_result"
    }
   ],
   "source": [
    "mydata"
   ]
  },
  {
   "cell_type": "code",
   "execution_count": 128,
   "id": "f818769d-f19d-4951-a9a9-12f6c7559e28",
   "metadata": {},
   "outputs": [
    {
     "data": {
      "text/plain": [
       "array([1., 1., 1., 1., 1., 1., 1., 1.])"
      ]
     },
     "execution_count": 128,
     "metadata": {},
     "output_type": "execute_result"
    }
   ],
   "source": [
    "mydata/mydata"
   ]
  },
  {
   "cell_type": "code",
   "execution_count": 130,
   "id": "c2a6069d-4e9e-4ebf-b0de-db9117997154",
   "metadata": {},
   "outputs": [],
   "source": [
    "mydata=np.arange(0,10,2)"
   ]
  },
  {
   "cell_type": "code",
   "execution_count": 133,
   "id": "e063e3ae-2f63-4a5a-a798-ddbb6f8c63ef",
   "metadata": {},
   "outputs": [
    {
     "data": {
      "text/plain": [
       "array([0, 2, 4, 6, 8])"
      ]
     },
     "execution_count": 133,
     "metadata": {},
     "output_type": "execute_result"
    }
   ],
   "source": [
    "mydata"
   ]
  },
  {
   "cell_type": "code",
   "execution_count": 135,
   "id": "c8640960-3871-47be-8569-b09e1dbf5616",
   "metadata": {},
   "outputs": [
    {
     "name": "stderr",
     "output_type": "stream",
     "text": [
      "C:\\Users\\ASUS\\AppData\\Local\\Temp\\ipykernel_10316\\3970214447.py:1: RuntimeWarning: invalid value encountered in divide\n",
      "  mydata/mydata\n"
     ]
    },
    {
     "data": {
      "text/plain": [
       "array([nan,  1.,  1.,  1.,  1.])"
      ]
     },
     "execution_count": 135,
     "metadata": {},
     "output_type": "execute_result"
    }
   ],
   "source": [
    "mydata/mydata"
   ]
  },
  {
   "cell_type": "code",
   "execution_count": 141,
   "id": "ebe25dcf-e382-42dc-a543-af0df2f4e410",
   "metadata": {},
   "outputs": [],
   "source": [
    "mydata2=np.arange(0,20,2)"
   ]
  },
  {
   "cell_type": "code",
   "execution_count": 143,
   "id": "7805dab0-ffcd-49c1-882a-81afb6bd0fb7",
   "metadata": {},
   "outputs": [
    {
     "data": {
      "text/plain": [
       "array([ 0,  4,  8, 12, 16, 20, 24, 28, 32, 36])"
      ]
     },
     "execution_count": 143,
     "metadata": {},
     "output_type": "execute_result"
    }
   ],
   "source": [
    "mydata+mydata2"
   ]
  },
  {
   "cell_type": "code",
   "execution_count": 145,
   "id": "b0bdb2de-bfd9-4db0-8067-80af7b268627",
   "metadata": {},
   "outputs": [
    {
     "name": "stderr",
     "output_type": "stream",
     "text": [
      "C:\\Users\\ASUS\\AppData\\Local\\Temp\\ipykernel_10316\\2923084688.py:1: RuntimeWarning: divide by zero encountered in log\n",
      "  np.log(mydata)\n"
     ]
    },
    {
     "data": {
      "text/plain": [
       "array([      -inf, 0.69314718, 1.38629436, 1.79175947, 2.07944154,\n",
       "       2.30258509, 2.48490665, 2.63905733, 2.77258872, 2.89037176])"
      ]
     },
     "execution_count": 145,
     "metadata": {},
     "output_type": "execute_result"
    }
   ],
   "source": [
    "np.log(mydata)"
   ]
  },
  {
   "cell_type": "code",
   "execution_count": 147,
   "id": "9971f864-eec5-4e16-9fa5-c51e7a258c62",
   "metadata": {},
   "outputs": [
    {
     "data": {
      "text/plain": [
       "array([1.00000000e+00, 7.38905610e+00, 5.45981500e+01, 4.03428793e+02,\n",
       "       2.98095799e+03, 2.20264658e+04, 1.62754791e+05, 1.20260428e+06,\n",
       "       8.88611052e+06, 6.56599691e+07])"
      ]
     },
     "execution_count": 147,
     "metadata": {},
     "output_type": "execute_result"
    }
   ],
   "source": [
    "np.exp(mydata)"
   ]
  },
  {
   "cell_type": "code",
   "execution_count": 149,
   "id": "09a90349-3ee6-48b9-a117-4b65f1e744dc",
   "metadata": {},
   "outputs": [
    {
     "data": {
      "text/plain": [
       "array([ 1.        , -0.41614684, -0.65364362,  0.96017029, -0.14550003,\n",
       "       -0.83907153,  0.84385396,  0.13673722, -0.95765948,  0.66031671])"
      ]
     },
     "execution_count": 149,
     "metadata": {},
     "output_type": "execute_result"
    }
   ],
   "source": [
    "np.cos(mydata)"
   ]
  },
  {
   "cell_type": "code",
   "execution_count": 151,
   "id": "67f5921c-15ed-4300-8154-c6f9758ba5d3",
   "metadata": {},
   "outputs": [
    {
     "data": {
      "text/plain": [
       "array([ 0,  2,  4,  6,  8, 10, 12, 14, 16, 18])"
      ]
     },
     "execution_count": 151,
     "metadata": {},
     "output_type": "execute_result"
    }
   ],
   "source": [
    "mydata"
   ]
  },
  {
   "cell_type": "code",
   "execution_count": null,
   "id": "87d8c9ca-10f4-4d5e-9b1e-050cdfddc11f",
   "metadata": {},
   "outputs": [],
   "source": []
  }
 ],
 "metadata": {
  "kernelspec": {
   "display_name": "Python [conda env:base] *",
   "language": "python",
   "name": "conda-base-py"
  },
  "language_info": {
   "codemirror_mode": {
    "name": "ipython",
    "version": 3
   },
   "file_extension": ".py",
   "mimetype": "text/x-python",
   "name": "python",
   "nbconvert_exporter": "python",
   "pygments_lexer": "ipython3",
   "version": "3.12.7"
  }
 },
 "nbformat": 4,
 "nbformat_minor": 5
}
